{
  "nbformat": 4,
  "nbformat_minor": 0,
  "metadata": {
    "colab": {
      "provenance": [],
      "authorship_tag": "ABX9TyO9cj+31Q+sS2Ff/y7TMqDj",
      "include_colab_link": true
    },
    "kernelspec": {
      "name": "python3",
      "display_name": "Python 3"
    },
    "language_info": {
      "name": "python"
    }
  },
  "cells": [
    {
      "cell_type": "markdown",
      "metadata": {
        "id": "view-in-github",
        "colab_type": "text"
      },
      "source": [
        "<a href=\"https://colab.research.google.com/github/puputhandayan/HitungLuas/blob/main/Untitled4.ipynb\" target=\"_parent\"><img src=\"https://colab.research.google.com/assets/colab-badge.svg\" alt=\"Open In Colab\"/></a>"
      ]
    },
    {
      "cell_type": "code",
      "source": [
        "x = 0\n",
        "print(\"cek bilangan genap atau ganjil\")\n",
        "while x == 0:\n",
        "  print()\n",
        "  angka = int (input(\"masukan angka: \"))\n",
        "  if angka % 2 == 0:\n",
        "    print(angka, \"adalah bilangan genap\")\n",
        "    print()\n",
        "  elif angka % 2 !=0 :\n",
        "    print(angka, \"adalah bilangan ganjil\")\n",
        "    print()\n"
      ],
      "metadata": {
        "colab": {
          "base_uri": "https://localhost:8080/"
        },
        "id": "e7pY4uga-kUH",
        "outputId": "24801107-a7d3-49fa-c9b7-607a1591de94"
      },
      "execution_count": null,
      "outputs": [
        {
          "output_type": "stream",
          "name": "stdout",
          "text": [
            "cek bilangan genap atau ganjil\n",
            "\n",
            "masukan angka: 3\n",
            "3 adalah bilangan ganjil\n",
            "\n",
            "\n",
            "masukan angka: 2\n",
            "2 adalah bilangan genap\n",
            "\n",
            "\n"
          ]
        }
      ]
    },
    {
      "cell_type": "code",
      "execution_count": null,
      "metadata": {
        "id": "kXpEWqqXY7Kz",
        "colab": {
          "base_uri": "https://localhost:8080/"
        },
        "outputId": "81a78401-c5b3-46ae-90f6-7f9dcfb8251a"
      },
      "outputs": [
        {
          "name": "stdout",
          "output_type": "stream",
          "text": [
            "== SELAMAT DATANG DIPROGRAM SEGITIGA ==\n",
            "berikut menu yang tersedia:\n",
            "1. mencari luas segitiga\n",
            "2. tutup\n",
            "option 1-2: 1\n",
            "anda pilih menu 1\n",
            "masukan alas segitiga: 2\n",
            "masukan tinggi segitiga: 2\n",
            "luas segitiga:  2.0\n",
            "== SELAMAT DATANG DIPROGRAM SEGITIGA ==\n",
            "berikut menu yang tersedia:\n",
            "1. mencari luas segitiga\n",
            "2. tutup\n",
            "option 1-2: 2\n"
          ]
        }
      ],
      "source": [
        "def luas_segitiga():\n",
        "  alas = float(input(\"masukan alas segitiga: \"))\n",
        "  tinggi = float (input(\"masukan tinggi segitiga: \"))\n",
        "  luas = 1/2 * alas * tinggi\n",
        "  print (\"luas segitiga: \", luas)\n",
        "  return luas\n",
        "\n",
        "while True:\n",
        "  print(\"== SELAMAT DATANG DIPROGRAM SEGITIGA ==\")\n",
        "  print(\"berikut menu yang tersedia:\")\n",
        "  print(\"1. mencari luas segitiga\")\n",
        "  print(\"2. tutup\")\n",
        "  option = input(\"option 1-2: \")\n",
        "  if option == \"1\":\n",
        "    print (\"anda pilih menu 1\")\n",
        "    luas_segitiga()\n",
        "  elif option == \"2\":\n",
        "    break\n",
        "  else :\n",
        "    print (\"keyword anda salah silahkan coba lagi!\")"
      ]
    },
    {
      "cell_type": "code",
      "source": [
        "def luas_persegi_panjang():\n",
        "  panjang = float(input(\"masukan panjang persegi panjang: \"))\n",
        "  lebar = float(input(\"masukan lebar persegi panjang: \"))\n",
        "  luas = panjang * lebar\n",
        "  print(\"luas persegi panjang: \", luas)\n",
        "  return luas\n",
        "\n",
        "while True :\n",
        "  print(\"==SELAMAT DATANG DIPROGRAM PERSEGI PANJANG==\")\n",
        "  print(\"berikut menu yang tersedia\")\n",
        "  print(\"1. mencari luas persegi panjang\")\n",
        "  print(\"2. tutup\")\n",
        "  option = input(\"option 1-2: \" )\n",
        "  if option == \"1\":\n",
        "    print(\"anda pilih menu 1\")\n",
        "    luas_persegi_panjang()\n",
        "  elif option == \"2\":\n",
        "    break\n",
        "  else:\n",
        "    print(\"keyword anda salah silahkan coba lagi!\")"
      ],
      "metadata": {
        "colab": {
          "base_uri": "https://localhost:8080/"
        },
        "id": "woWLAmqA1cJo",
        "outputId": "1a2a3fda-e249-46c9-b269-4e591e950d70"
      },
      "execution_count": null,
      "outputs": [
        {
          "name": "stdout",
          "output_type": "stream",
          "text": [
            "==SELAMAT DATANG DIPROGRAM PERSEGI PANJANG==\n",
            "berikut menu yang tersedia\n",
            "1. mencari luas persegi panjang\n",
            "2. tutup\n",
            "option 1-2: 1\n",
            "anda pilih menu 1\n",
            "masukan panjang persegi panjang: 2\n",
            "masukan lebar persegi panjang: 3\n",
            "luas persegi panjang:  6.0\n",
            "==SELAMAT DATANG DIPROGRAM PERSEGI PANJANG==\n",
            "berikut menu yang tersedia\n",
            "1. mencari luas persegi panjang\n",
            "2. tutup\n",
            "option 1-2: 4\n",
            "keyword anda salah silahkan coba lagi!\n",
            "==SELAMAT DATANG DIPROGRAM PERSEGI PANJANG==\n",
            "berikut menu yang tersedia\n",
            "1. mencari luas persegi panjang\n",
            "2. tutup\n",
            "option 1-2: 2\n"
          ]
        }
      ]
    }
  ]
}